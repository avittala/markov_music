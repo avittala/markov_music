{
 "cells": [
  {
   "cell_type": "code",
   "execution_count": 1,
   "metadata": {},
   "outputs": [],
   "source": [
    "%load_ext autoreload\n",
    "%autoreload 2\n",
    "from music import Music\n",
    "from markov_music import MarkovMusic\n",
    "\n",
    "import random"
   ]
  },
  {
   "cell_type": "code",
   "execution_count": 7,
   "metadata": {},
   "outputs": [
    {
     "name": "stdout",
     "output_type": "stream",
     "text": [
      "Total music time: 40.0 seconds\n",
      "Total music time: 40.0 seconds\n",
      "Total music time: 40.0 seconds\n"
     ]
    }
   ],
   "source": [
    "# np.random.seed(0)\n",
    "m = MarkovMusic()\n",
    "m.in_key_factor = 100 # is in the key\n",
    "m.is_close_factor = 10 # is close (a Maj 3rd) to previous note\n",
    "m.is_diff_factor = 5 # is different than the previous note\n",
    "m.is_match_factor = 10 # harmonizes with the concurrent notes (unison, 3rd, 6th)\n",
    "m.is_spaced_factor = 10 # is spaced out from concurrent notes (a Maj 3rd away)\n",
    "m.in_meas_factor = 100 # ends within the measure\n",
    "m.on_beat_factor = 10 # ends or starts on beat (i.e. on a quarter note)\n",
    "m.repeat_start_chance = 0.5 # how often we start repeats (per measure)\n",
    "m.repeat_end_chance = 0.4 # how often we end repeats (per measure)\n",
    "m.make_melody(10, ts=4, key=0, instr='piano', durs=[2,4,8], dur_to_beat = 4, p_range=(6,18)) # make melody from Markov process\n",
    "m.add_harmony(instr='piano', durs=[2,4,8], dur_to_beat = 4, p_range=(-6,6)) # add in a harmony line\n",
    "# m.add_repetitions()\n",
    "m.add_harmony(instr='piano', durs=[2,4,8], dur_to_beat = 4, p_range=(-18,-6)) # add in a harmony line\n",
    "m.add_harmony(instr='piano', durs=[2,4,8], dur_to_beat = 4, p_range=(-30,-18)) # add in a harmony line\n",
    "m.compile() # turn into a program that can be played\n",
    "m.write('out.midi') # write music\n",
    "m.play() # play the music\n"
   ]
  },
  {
   "cell_type": "code",
   "execution_count": null,
   "metadata": {},
   "outputs": [],
   "source": []
  }
 ],
 "metadata": {
  "interpreter": {
   "hash": "0e54f817b03c5da8cf4d920ce7680e00bfc0a4f1794b8b8e03b5975b36d33717"
  },
  "kernelspec": {
   "display_name": "Python 3.9.7 64-bit ('base': conda)",
   "language": "python",
   "name": "python3"
  },
  "language_info": {
   "codemirror_mode": {
    "name": "ipython",
    "version": 3
   },
   "file_extension": ".py",
   "mimetype": "text/x-python",
   "name": "python",
   "nbconvert_exporter": "python",
   "pygments_lexer": "ipython3",
   "version": "3.9.7"
  },
  "orig_nbformat": 4
 },
 "nbformat": 4,
 "nbformat_minor": 2
}
